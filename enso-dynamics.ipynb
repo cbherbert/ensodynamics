{
 "cells": [
  {
   "cell_type": "code",
   "execution_count": 1,
   "id": "811269cd",
   "metadata": {},
   "outputs": [],
   "source": [
    "import numpy as np\n",
    "import matplotlib.pyplot as plt"
   ]
  },
  {
   "cell_type": "code",
   "execution_count": 2,
   "id": "eacbbbcd",
   "metadata": {},
   "outputs": [],
   "source": [
    "from scipy import integrate, linalg"
   ]
  },
  {
   "cell_type": "code",
   "execution_count": 3,
   "id": "e33e35b6",
   "metadata": {},
   "outputs": [],
   "source": [
    "class Jin97Model():\n",
    "    \"\"\"Original Jin (1997a) model\"\"\"\n",
    "    params = {'r': 0.25, 'alpha': 0.125, 'b0': 2.5, 'c': 1, 'gamma': 0.75}\n",
    "    def __init__(self, mu, **kwargs):\n",
    "        \"\"\"\n",
    "        Parameters\n",
    "        ----------\n",
    "        mu: float. The coupling coefficient.\n",
    "        \"\"\"\n",
    "        self.mu = mu\n",
    "    \n",
    "    def matrix(self):\n",
    "        return np.array([[-self.params['r'], -self.mu*self.params['alpha']*self.params['b0']], \n",
    "                           [self.params['gamma'], self.params['gamma']*self.mu*self.params['b0']-self.params['c']]])\n",
    "    \n",
    "    def fun(self, t, y):\n",
    "        return self.matrix() @ y"
   ]
  },
  {
   "cell_type": "markdown",
   "id": "a7267415",
   "metadata": {},
   "source": [
    "**Q1** Compute numerically the eigenvalues of the Jin97 model and represent them as a function of $\\mu$. Identify the regime where oscillatory solutions exist. Identify a critical value $\\mu_c$ below which the sytem converges to $(0, 0)$ for all initial conditions, and above which it diverges for all initial conditions. Interpret this critical value in terms of the relaxation times for the two variables of the model."
   ]
  },
  {
   "cell_type": "markdown",
   "id": "57e71740",
   "metadata": {},
   "source": [
    "**Q2** Plot trajectories for $h_W$ and $T_E$ for the following values of $\\mu$: 0.1, 0.6, 0.7, 0.9. Check that it is qualitatively consistent with the analysis of the eigenvalues above."
   ]
  },
  {
   "cell_type": "markdown",
   "id": "400010c8",
   "metadata": {},
   "source": [
    "**Q3** Represent the streamlines of the vector field, for the same values of $\\mu$. Conclude about the nature of the fixed points of the system."
   ]
  },
  {
   "cell_type": "markdown",
   "id": "6fa45094",
   "metadata": {},
   "source": [
    "**Q4** Now plot a few trajectories for $\\mu=2/3$. Check that they correspond to periodic orbits in phase space. Do all initial condition converge to the same periodic orbit? Does the period depend on the initial condition?"
   ]
  },
  {
   "cell_type": "markdown",
   "id": "5aae3187",
   "metadata": {},
   "source": [
    "**Q5** Now, plot on the same figure: temperature in the eastern equatorial Pacific, thermocline depth in the eastern and western equatorial Pacific (remember that in this model $h_E=h_W+\\mu b_0T_E$). Identify the four phases of the discharge-recharge oscillator. Discuss the phase relations between these variables."
   ]
  }
 ],
 "metadata": {
  "kernelspec": {
   "display_name": "Python 3 (ipykernel)",
   "language": "python",
   "name": "python3"
  },
  "language_info": {
   "codemirror_mode": {
    "name": "ipython",
    "version": 3
   },
   "file_extension": ".py",
   "mimetype": "text/x-python",
   "name": "python",
   "nbconvert_exporter": "python",
   "pygments_lexer": "ipython3",
   "version": "3.10.10"
  }
 },
 "nbformat": 4,
 "nbformat_minor": 5
}
